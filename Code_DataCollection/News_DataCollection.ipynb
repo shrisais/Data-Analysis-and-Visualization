{
 "cells": [
  {
   "cell_type": "code",
   "execution_count": null,
   "metadata": {},
   "outputs": [],
   "source": [
    "import csv\n",
    "import nytimesarticle\n",
    "from nytimesarticle import articleAPI\n",
    "api = articleAPI('943d65691e814b8b96e1193dcab0036e')\n",
    "\n",
    "\n",
    "def parse_articles(articles):\n",
    "    '''\n",
    "    This function takes in a response to the NYT api and parses\n",
    "    the articles into a list of dictionaries\n",
    "    '''\n",
    "    news = []\n",
    "    if 'response' in articles :\n",
    "        for i in articles[\"response\"][\"docs\"]:\n",
    "            dic = {}\n",
    "            dic['id'] = i['_id']\n",
    "\n",
    "            dic['headline'] = i['headline']['main'].encode(\"utf8\")\n",
    "\n",
    "            dic['date'] = i['pub_date'][0:10]\n",
    "\n",
    "            dic['source'] = i['source']\n",
    "            dic['type'] = i['type_of_material']\n",
    "            dic['url'] = i['web_url']\n",
    "            dic['word_count'] = i['word_count']\n",
    "            news.append(dic)\n",
    "    return(news) \n",
    "\n",
    "\n",
    "all_articles = []\n",
    "for i in range(0,100):\n",
    "    articles = api.search(q = \"marketing\",\n",
    "           begin_date = 20180301,\n",
    "           end_date = 20180315,\n",
    "           page = i)\n",
    "    articles = parse_articles(articles)\n",
    "    all_articles = all_articles + articles\n",
    "    \n",
    "    \n",
    "import csv\n",
    "keys = all_articles[0].keys()\n",
    "outputfile = open('NewsData_3.csv', 'w',newline='') \n",
    "dict_writer = csv.DictWriter(outputfile,keys)\n",
    "dict_writer.writerows(all_articles)\n",
    "outputfile.close()"
   ]
  },
  {
   "cell_type": "code",
   "execution_count": 3,
   "metadata": {},
   "outputs": [],
   "source": [
    "from bs4 import BeautifulSoup\n",
    "from bs4.element import Comment\n",
    "import urllib.request\n",
    "import csv\n",
    "\n",
    "\n",
    "def tag_visible(element):\n",
    "    if element.parent.name in ['style', 'script', 'head', 'title', 'meta', '[document]']:\n",
    "        return False\n",
    "    if isinstance(element, Comment):\n",
    "        return False\n",
    "    return True\n",
    "\n",
    "\n",
    "def text_from_html(body):\n",
    "    soup = BeautifulSoup(body, 'html.parser')\n",
    "    texts = soup.findAll(text=True)\n",
    "    visible_texts = filter(tag_visible, texts)  \n",
    "    return u\" \".join(t.strip() for t in visible_texts)\n",
    "\n",
    "\n",
    "i=1\n",
    "with open ('NewsData.csv') as csvDataFile:\n",
    "    csvReader = csv.reader(csvDataFile)\n",
    "    for row in csvReader:\n",
    "        html = urllib.request.urlopen(row[5]).read()\n",
    "        outputfile = open(\"NYT%s.txt\" %i,\"w\")\n",
    "        i+=1\n",
    "        outputfile.write(text_from_html(html))\n",
    "        outputfile.close()"
   ]
  },
  {
   "cell_type": "code",
   "execution_count": null,
   "metadata": {},
   "outputs": [],
   "source": []
  }
 ],
 "metadata": {
  "kernelspec": {
   "display_name": "Python 3",
   "language": "python",
   "name": "python3"
  },
  "language_info": {
   "codemirror_mode": {
    "name": "ipython",
    "version": 3
   },
   "file_extension": ".py",
   "mimetype": "text/x-python",
   "name": "python",
   "nbconvert_exporter": "python",
   "pygments_lexer": "ipython3",
   "version": "3.5.5"
  },
  "widgets": {
   "state": {},
   "version": "1.1.2"
  }
 },
 "nbformat": 4,
 "nbformat_minor": 2
}
